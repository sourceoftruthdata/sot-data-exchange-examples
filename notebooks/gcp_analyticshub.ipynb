{
 "cells": [
  {
   "cell_type": "code",
   "execution_count": null,
   "metadata": {},
   "outputs": [],
   "source": [
    "############################################\n",
    "# Connect to BigQuery\n",
    "############################################\n",
    "\n",
    "from google.cloud import bigquery"
   ]
  },
  {
   "cell_type": "code",
   "execution_count": null,
   "metadata": {},
   "outputs": [],
   "source": [
    "############################################\n",
    "# Authenticate with GOOGLE \n",
    "# to read and write to BIGQUERY\n",
    "############################################\n",
    "\n",
    "from google.colab import auth\n",
    "auth.authenticate_user()\n",
    "print('Google Authenticated')"
   ]
  },
  {
   "cell_type": "code",
   "execution_count": null,
   "metadata": {},
   "outputs": [],
   "source": [
    "############################################\n",
    "# Authenticate with GOOGLE \n",
    "# to read and write to BIGQUERY\n",
    "############################################\n",
    "\n",
    "%%bigquery data_in_long --project source-of-truth-data-exchange \n",
    "\n",
    "SELECT * \n",
    "FROM `source-of-truth-data-exchange.coinbase.prices_daily`"
   ]
  }
 ],
 "metadata": {
  "language_info": {
   "name": "python"
  },
  "orig_nbformat": 4
 },
 "nbformat": 4,
 "nbformat_minor": 2
}
